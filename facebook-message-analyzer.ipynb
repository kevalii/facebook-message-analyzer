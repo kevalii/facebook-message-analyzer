{
 "cells": [
  {
   "cell_type": "markdown",
   "metadata": {},
   "source": [
    "# Facebook Message Analyzer"
   ]
  },
  {
   "cell_type": "markdown",
   "metadata": {},
   "source": [
    "\n",
    "\n",
    "<b> Current Features For a Given Chat: </b>\n",
    "<ul> \n",
    "    <li> Number of Messages Sent </li> \n",
    "    <li> Messages Sent Over Time </li> \n",
    "    <li> Average Word Count </li>\n",
    "    <li> Most Active Conversations </li>\n",
    "</ul>\n",
    "\n",
    "Written by Jeffrey He in 2018"
   ]
  },
  {
   "cell_type": "code",
   "execution_count": 22,
   "metadata": {},
   "outputs": [],
   "source": [
    "import os\n",
    "import json\n",
    "import numpy as np\n",
    "import pylab as pl\n",
    "import datetime\n",
    "\n",
    "CURRENT_DIRECTORY = os.getcwd()\n",
    "NUMBER_TO_ANALYZE = 5000\n",
    "MESSAGE_THRESHOLD = 3"
   ]
  },
  {
   "cell_type": "code",
   "execution_count": 23,
   "metadata": {},
   "outputs": [],
   "source": [
    "def get_json_data(chat):\n",
    "    try:\n",
    "        json_location = CURRENT_DIRECTORY + \"/messages/\" + chat + \"/message.json\"\n",
    "        with open(json_location) as json_file:\n",
    "            json_data = json.load(json_file)\n",
    "            return json_data\n",
    "    except IOError:\n",
    "        pass # some things the directory aren't messages (DS_Store, stickers_used, etc.)"
   ]
  },
  {
   "cell_type": "code",
   "execution_count": 24,
   "metadata": {},
   "outputs": [],
   "source": [
    "chats = os.listdir(CURRENT_DIRECTORY + \"/messages\")[:NUMBER_TO_ANALYZE]\n",
    "sorted_chats = []\n",
    "final_data_messages = {}\n",
    "final_data_times = {}\n",
    "final_data_words = {}\n",
    "invalid_message_count = 0"
   ]
  },
  {
   "cell_type": "code",
   "execution_count": 25,
   "metadata": {},
   "outputs": [
    {
     "name": "stdout",
     "output_type": "stream",
     "text": [
      "Analyzing 53 chats...\n",
      "Finished processing chats...\n"
     ]
    }
   ],
   "source": [
    "print('Analyzing ' + str(min(NUMBER_TO_ANALYZE, len(chats))) + ' chats...')\n",
    "\n",
    "for chat in chats:\n",
    "    json_data = get_json_data(chat)\n",
    "    if json_data != None:\n",
    "        messages = json_data[\"messages\"]\n",
    "        if len(messages) >= MESSAGE_THRESHOLD:\n",
    "            sorted_chats.append((len(messages), chat, messages))\n",
    "\n",
    "sorted_chats.sort(reverse=True)\n",
    "\n",
    "print('Finished processing chats...')"
   ]
  },
  {
   "cell_type": "code",
   "execution_count": 26,
   "metadata": {},
   "outputs": [
    {
     "name": "stdout",
     "output_type": "stream",
     "text": [
      "0 - 223 messages - DiegoCachay_Hsu9XJzecw\n",
      "1 - 47 messages - nicholasshropshire_nml0d7oyma\n",
      "2 - 19 messages - KevinRankine_FNioiTcLFg\n",
      "3 - 16 messages - AnikoAlbert_HPCEmF4D9Q\n",
      "4 - 6 messages - ryanallred_3l_q0czqra\n",
      "Found 0 invalid messages...\n",
      "Found 5 chats with 3 messages or more\n"
     ]
    }
   ],
   "source": [
    "for i, (messages, chat, messages) in enumerate(sorted_chats):\n",
    "    number_messages = {}\n",
    "    person_to_times = {}\n",
    "    number_words = {}\n",
    "\n",
    "    print(str(i) + \" - \" + str(len(messages)) + \" messages - \" + str(chat))\n",
    "\n",
    "    for message in messages:\n",
    "        try:\n",
    "            name = message[\"sender_name\"]\n",
    "            time = message[\"timestamp_ms\"]\n",
    "            message_content = message[\"content\"]\n",
    "\n",
    "            number_messages[name] = number_messages.get(name, 0)\n",
    "            number_messages[name] += 1\n",
    "\n",
    "            person_to_times[name] = person_to_times.get(name, [])\n",
    "            person_to_times[name].append(datetime.datetime.fromtimestamp(time/1000.0))\n",
    "\n",
    "            number_words[name] = number_words.get(name, [])\n",
    "            number_words[name].append(len(message_content.split()))\n",
    "        except KeyError:\n",
    "            # happens for special cases like users who deactivated, unfriended, blocked\n",
    "            invalid_message_count += 1\n",
    "\n",
    "    final_data_messages[i] = number_messages\n",
    "    final_data_times[i] = person_to_times\n",
    "    final_data_words[i] = number_words\n",
    "\n",
    "print('Found ' + str(invalid_message_count) + ' invalid messages...')\n",
    "print('Found ' + str(len(sorted_chats)) + ' chats with ' + str(MESSAGE_THRESHOLD) + ' messages or more')"
   ]
  },
  {
   "cell_type": "code",
   "execution_count": 27,
   "metadata": {},
   "outputs": [],
   "source": [
    "def plot_num_messages(chat_number):\n",
    "    plotted_data = final_data_messages[chat_number]\n",
    "    X = np.arange(len(plotted_data))\n",
    "    pl.bar(X, list(plotted_data.values()), align='center', width=0.5, color = 'r', bottom = 0.3)\n",
    "    pl.xticks(X, plotted_data.keys(), rotation = 90)\n",
    "    pl.title('Number of Messages Sent')\n",
    "    pl.tight_layout()\n",
    "    pl.show()\n",
    "    \n",
    "def plot_histogram_time(chat_number):\n",
    "    person_to_times = final_data_times[chat_number]\n",
    "    pl.xlabel('Time')\n",
    "    pl.ylabel('Number of Messages')\n",
    "    pl.title('# of Messages Over Time')\n",
    "    colors = ['b', 'r', 'c', 'm', 'y', 'k', 'w', 'g']\n",
    "    for i , person in enumerate(person_to_times):\n",
    "        plotted_data = person_to_times[person]\n",
    "        pl.hist(plotted_data, 100, label=person, facecolor=colors[i % len(colors)])\n",
    "    pl.legend()\n",
    "    pl.xticks(rotation=90)\n",
    "    pl.tight_layout()\n",
    "    pl.show()\n",
    "    \n",
    "\n",
    "# Number of messages by time of day    \n",
    "def plot_histogram_hour(chat_number):\n",
    "    time_data = final_data_times[chat_number]\n",
    "    pl.xlabel('Hour')\n",
    "    pl.ylabel('Number of Messages')\n",
    "    pl.title('Messages by Hour')\n",
    "    for person in time_data:\n",
    "        message_hours = list()\n",
    "        for message in time_data[person]:\n",
    "            message_hours.append(message.hour)\n",
    "        pl.hist(message_hours, 100, alpha=0.5, width=0.5, label=person)\n",
    "    pl.xticks(np.arange(24), [f\"{i % 12} PM\" if i > 12 else \"12 PM\" if i == 12 else \"12 AM\" if i == 0 else f\"{i % 12} AM\" for i in range(24)], rotation = 90)\n",
    "    pl.legend()\n",
    "    pl.show()\n",
    "    \n",
    "            \n",
    "def plot_histogram_words(chat_number):\n",
    "    temp = {}\n",
    "    for person in final_data_words[chat_number]:\n",
    "        temp[person] = np.average(final_data_words[chat_number][person])\n",
    "    plotted_data = temp\n",
    "    X = np.arange(len(plotted_data))\n",
    "    pl.bar(X, list(plotted_data.values()), align='center', width=0.5, color = 'r', bottom = 0.3)\n",
    "    pl.xticks(X, plotted_data.keys(), rotation = 90)\n",
    "    pl.title('Average Word Count')\n",
    "    pl.tight_layout()\n",
    "    pl.show()\n",
    "    \n",
    "    \n",
    "# Lists most active conversations\n",
    "def list_active_chats():\n",
    "    data = dict()\n",
    "    for chat in final_data_words:\n",
    "        total_words = 0\n",
    "        a = dict()\n",
    "        for person in final_data_words[chat]:\n",
    "            num_words = np.sum(final_data_words[chat][person])\n",
    "            a.update({person: num_words})\n",
    "            total_words += num_words\n",
    "        for person in final_data_words[chat]:\n",
    "            num_words = np.sum(final_data_words[chat][person])\n",
    "            a[person] = '{:.2%} of all words'.format(num_words / total_words)\n",
    "        a['total'] = f\"{total_words} words\"\n",
    "        data[chat] = a\n",
    "    print(\"Most active to least active conversations\")\n",
    "    for chat, stats in data.items():\n",
    "        print(\"########\")\n",
    "        for label, num in stats.items():\n",
    "            print(f'{label}: {num}')\n",
    "\n",
    "    \n",
    "def plot(chat_number):\n",
    "    #plot_num_messages(chat_number)\n",
    "    #plot_histogram_time(chat_number)\n",
    "    #plot_histogram_words(chat_number)\n",
    "    plot_histogram_hour(chat_number)\n",
    "    list_active_chats()"
   ]
  },
  {
   "cell_type": "code",
   "execution_count": 28,
   "metadata": {},
   "outputs": [
    {
     "name": "stdout",
     "output_type": "stream",
     "text": [
      "Hours of messages sent \n",
      "Alex Rankine: [20, 19, 19, 19, 19, 19, 10, 8, 7, 19, 13, 19]\n",
      "Hours of messages sent \n",
      "Kevin Rankine: [19, 19, 19, 19, 10, 19, 9]\n"
     ]
    },
    {
     "data": {
      "image/png": "[encoded data removed]",
      "text/plain": [
       "<Figure size 432x288 with 1 Axes>"
      ]
     },
     "metadata": {
      "needs_background": "light"
     },
     "output_type": "display_data"
    },
    {
     "name": "stdout",
     "output_type": "stream",
     "text": [
      "Most active to least active conversations\n",
      "########\n",
      "Alex Rankine: 36.10% of all words\n",
      "Diego Cachay: 63.90% of all words\n",
      "total: 1424 words\n",
      "########\n",
      "Nicholas Shropshire: 56.90% of all words\n",
      "Alex Rankine: 43.10% of all words\n",
      "total: 406 words\n",
      "########\n",
      "Alex Rankine: 62.82% of all words\n",
      "Kevin Rankine: 37.18% of all words\n",
      "total: 78 words\n",
      "########\n",
      "Aniko Albert: 27.27% of all words\n",
      "Alex Rankine: 72.73% of all words\n",
      "total: 55 words\n",
      "########\n",
      "Alex Rankine: 42.11% of all words\n",
      "Ryan Allred: 57.89% of all words\n",
      "total: 19 words\n"
     ]
    }
   ],
   "source": [
    "plot(2)"
   ]
  },
  {
   "cell_type": "code",
   "execution_count": null,
   "metadata": {},
   "outputs": [],
   "source": []
  },
  {
   "cell_type": "code",
   "execution_count": null,
   "metadata": {},
   "outputs": [],
   "source": []
  },
  {
   "cell_type": "code",
   "execution_count": null,
   "metadata": {},
   "outputs": [],
   "source": []
  },
  {
   "cell_type": "code",
   "execution_count": null,
   "metadata": {},
   "outputs": [],
   "source": []
  }
 ],
 "metadata": {
  "kernelspec": {
   "display_name": "Python 3",
   "language": "python",
   "name": "python3"
  },
  "language_info": {
   "codemirror_mode": {
    "name": "ipython",
    "version": 3
   },
   "file_extension": ".py",
   "mimetype": "text/x-python",
   "name": "python",
   "nbconvert_exporter": "python",
   "pygments_lexer": "ipython3",
   "version": "3.7.0"
  }
 },
 "nbformat": 4,
 "nbformat_minor": 2
}
